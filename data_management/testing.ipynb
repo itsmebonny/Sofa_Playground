{
 "cells": [
  {
   "cell_type": "code",
   "execution_count": 5,
   "metadata": {},
   "outputs": [
    {
     "name": "stdout",
     "output_type": "stream",
     "text": [
      "Distance log 20, 100: -1.6094379124341003 \n",
      "Distance abs 20 -80: 7.3777589082278725\n",
      "Distance log 0.2, 1.0: -1.6094379124341003 \n",
      "Distance abs 0.2, -0.8: 2.772588722239781 \n",
      "Distance abs 20, 100: 7.600902459542082 \n",
      "Distance abs 20, -80: 7.3777589082278725 \n",
      "Distance abs 0.2, 1.0: -1.6094379124341003 \n",
      "Distance abs 0.2, -0.8: 2.772588722239781\n"
     ]
    }
   ],
   "source": [
    "import numpy as np\n",
    "import matplotlib.pyplot as plt\n",
    "\n",
    "y_hat = 20\n",
    "y1 = 100\n",
    "y2 = -80\n",
    "y_hat2 = y_hat/100\n",
    "y1_small = y1/100\n",
    "y2_small = y2/100\n",
    "def distance_log(y_hat, y):\n",
    "    if y <= 0:\n",
    "        print(f\"y is negative {y}\")\n",
    "        return None\n",
    "    return np.log(y_hat/y)\n",
    "\n",
    "def distance_abs(y_hat, y):\n",
    "    return np.log(np.abs(y * y_hat))\n",
    "\n",
    "print(f\"Distance log {y_hat}, {y1}: {distance_log(y_hat, y1)} \\nDistance abs {y_hat} {y2}: {distance_abs(y_hat, y2)}\\nDistance log {y_hat2}, {y1_small}: {distance_log(y_hat2, y1_small)} \\nDistance abs {y_hat2}, {y2_small}: {distance_abs(y_hat, y2_small)} \\nDistance abs {y_hat}, {y1}: {distance_abs(y_hat, y1)} \\nDistance abs {y_hat}, {y2}: {distance_abs(y_hat, y2)} \\nDistance abs {y_hat2}, {y1_small}: {distance_abs(y_hat2, y1_small)} \\nDistance abs {y_hat2}, {y2_small}: {distance_abs(y_hat, y2_small)}\")"
   ]
  },
  {
   "cell_type": "code",
   "execution_count": 6,
   "metadata": {},
   "outputs": [
    {
     "name": "stdout",
     "output_type": "stream",
     "text": [
      "Distance symlog 20, 100: -0.6989700043358447 \n",
      "Distance symlog 20, -80: 25.204119982656195 \n",
      "Distance symlog 0.2, 1.0: -0.6989700043186478 \n",
      "Distance symlog 0.2, -0.8: 21.204119982683068\n"
     ]
    }
   ],
   "source": [
    "def symlog(y, slope=1e-11):\n",
    "    return np.sign(y) * np.log10(np.abs(y)/slope + 1)\n",
    "def distance_symlog(y_hat, y):\n",
    "    return symlog(y_hat) - symlog(y)\n",
    "\n",
    "print(f\"Distance symlog {y_hat}, {y1}: {distance_symlog(y_hat, y1)} \\nDistance symlog {y_hat}, {y2}: {distance_symlog(y_hat, y2)} \\nDistance symlog {y_hat2}, {y1_small}: {distance_symlog(y_hat2, y1_small)} \\nDistance symlog {y_hat2}, {y2_small}: {distance_symlog(y_hat2, y2_small)}\")\n",
    "\n"
   ]
  },
  {
   "cell_type": "code",
   "execution_count": 7,
   "metadata": {},
   "outputs": [
    {
     "name": "stderr",
     "output_type": "stream",
     "text": [
      "/tmp/ipykernel_7970/1162095536.py:4: RuntimeWarning: invalid value encountered in log10\n",
      "  y1 = np.log10(x)\n"
     ]
    },
    {
     "data": {
      "image/png": "[encoded data removed]",
      "text/plain": [
       "<Figure size 640x480 with 1 Axes>"
      ]
     },
     "metadata": {},
     "output_type": "display_data"
    }
   ],
   "source": [
    "x = np.linspace(-100, 100, 1000)\n",
    "\n",
    "y = symlog(x)\n",
    "y1 = np.log10(x)\n",
    "plt.plot(x, y, label='symlog')\n",
    "plt.plot(x, y1, label='log10')\n",
    "plt.legend()\n",
    "plt.show()"
   ]
  },
  {
   "cell_type": "code",
   "execution_count": 8,
   "metadata": {},
   "outputs": [
    {
     "name": "stdout",
     "output_type": "stream",
     "text": [
      "Symlog : -0.22184874961632595\n",
      "Log10 : -0.22184874961635637\n"
     ]
    }
   ],
   "source": [
    "x = 100\n",
    "z = 60\n",
    "print(f\"Symlog : {symlog(z) - symlog(x)}\")\n",
    "print(f\"Log10 : {np.log10(z) - np.log10(x)}\")"
   ]
  }
 ],
 "metadata": {
  "kernelspec": {
   "display_name": "Python 3",
   "language": "python",
   "name": "python3"
  },
  "language_info": {
   "codemirror_mode": {
    "name": "ipython",
    "version": 3
   },
   "file_extension": ".py",
   "mimetype": "text/x-python",
   "name": "python",
   "nbconvert_exporter": "python",
   "pygments_lexer": "ipython3",
   "version": "3.10.13"
  }
 },
 "nbformat": 4,
 "nbformat_minor": 2
}
