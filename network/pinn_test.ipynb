{
 "cells": [
  {
   "cell_type": "code",
   "execution_count": 1,
   "metadata": {},
   "outputs": [],
   "source": [
    "import numpy as np\n",
    "import matplotlib.pyplot as plt\n",
    "import torch as th"
   ]
  },
  {
   "cell_type": "code",
   "execution_count": 2,
   "metadata": {},
   "outputs": [
    {
     "name": "stdout",
     "output_type": "stream",
     "text": [
      "(2500, 3)\n",
      "[[ 0.         -1.         -1.        ]\n",
      " [ 0.41666667 -1.         -1.        ]\n",
      " [ 0.83333333 -1.         -1.        ]\n",
      " ...\n",
      " [ 9.16666667  1.          1.        ]\n",
      " [ 9.58333333  1.          1.        ]\n",
      " [10.          1.          1.        ]]\n"
     ]
    }
   ],
   "source": [
    "displacement = np.load('../npy_beam/2024-08-01_11:50:52_estimation/CoarseResPoints_0.06_x_0.323_y_0.762.npy')\n",
    "position = np.load('../npy_beam/2500_nodes/CoarseResPoints.npy')\n",
    "\n",
    "print(displacement.shape)\n",
    "print(position)"
   ]
  },
  {
   "cell_type": "code",
   "execution_count": 12,
   "metadata": {},
   "outputs": [
    {
     "name": "stdout",
     "output_type": "stream",
     "text": [
      "(3, 2500, 3, 1)\n"
     ]
    }
   ],
   "source": [
    "test = np.empty((2500, 3, 2))\n",
    "test[:, :, 0] = position\n",
    "test[:, :, 1] = displacement\n",
    "\n",
    "test2 = np.repeat(position[np.newaxis, :, :, np.newaxis], 3, axis=0)\n",
    "print(test2.shape)\n"
   ]
  }
 ],
 "metadata": {
  "kernelspec": {
   "display_name": "Python 3",
   "language": "python",
   "name": "python3"
  },
  "language_info": {
   "codemirror_mode": {
    "name": "ipython",
    "version": 3
   },
   "file_extension": ".py",
   "mimetype": "text/x-python",
   "name": "python",
   "nbconvert_exporter": "python",
   "pygments_lexer": "ipython3",
   "version": "3.10.13"
  }
 },
 "nbformat": 4,
 "nbformat_minor": 2
}
