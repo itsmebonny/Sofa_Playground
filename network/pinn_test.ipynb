{
 "cells": [
  {
   "cell_type": "code",
   "execution_count": null,
   "metadata": {},
   "outputs": [],
   "source": [
    "import numpy as np\n",
    "import matplotlib.pyplot as plt\n",
    "import torch as th"
   ]
  },
  {
   "cell_type": "code",
   "execution_count": null,
   "metadata": {},
   "outputs": [],
   "source": [
    "displacement = np.load('../npy/2024-04-18_11:05:08/HighResPoints_16.281.npy')\n",
    "position = np.load('../npy/2024-04-18_11:05:08/HighResPositions_16.281.npy')\n",
    "\n",
    "print(displacement.shape)\n",
    "print(position)"
   ]
  },
  {
   "cell_type": "code",
   "execution_count": null,
   "metadata": {},
   "outputs": [],
   "source": [
    "\n",
    "boundary_points_dir = []\n",
    "for i in range(position.shape[0]):\n",
    "    if position[i,0] == 0.:\n",
    "        boundary_points_dir.append(i)\n",
    "\n",
    "print(boundary_points_dir)\n",
    "print(len(boundary_points_dir))\n",
    "\n",
    "boundary_points_neu = []\n",
    "for i in range(position.shape[0]):\n",
    "    if position[i,0] == 10.:\n",
    "        boundary_points_neu.append(i)\n",
    "\n",
    "print(boundary_points_neu)\n",
    "print(len(boundary_points_neu))"
   ]
  }
 ],
 "metadata": {
  "kernelspec": {
   "display_name": "Python 3",
   "language": "python",
   "name": "python3"
  },
  "language_info": {
   "name": "python",
   "version": "3.10.13"
  }
 },
 "nbformat": 4,
 "nbformat_minor": 2
}
